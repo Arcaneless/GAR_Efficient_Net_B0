{
  "nbformat": 4,
  "nbformat_minor": 0,
  "metadata": {
    "colab": {
      "name": "EfficientNet - GAR Test",
      "provenance": [],
      "collapsed_sections": [],
      "toc_visible": true,
      "include_colab_link": true
    },
    "kernelspec": {
      "name": "python3",
      "display_name": "Python 3"
    },
    "accelerator": "GPU"
  },
  "cells": [
    {
      "cell_type": "markdown",
      "metadata": {
        "id": "view-in-github",
        "colab_type": "text"
      },
      "source": [
        "<a href=\"https://colab.research.google.com/github/Arcaneless/GAR_Efficient_Net_B0/blob/main/EfficientNet_GAR_Test.ipynb\" target=\"_parent\"><img src=\"https://colab.research.google.com/assets/colab-badge.svg\" alt=\"Open In Colab\"/></a>"
      ]
    },
    {
      "cell_type": "code",
      "metadata": {
        "id": "fvFVqz79RNPo",
        "outputId": "7cb9ecf5-d54e-476a-d1e5-ae0804604d05",
        "colab": {
          "base_uri": "https://localhost:8080/"
        }
      },
      "source": [
        "from google.colab import drive\n",
        "drive.mount('/content/drive')"
      ],
      "execution_count": null,
      "outputs": [
        {
          "output_type": "stream",
          "text": [
            "Mounted at /content/drive\n"
          ],
          "name": "stdout"
        }
      ]
    },
    {
      "cell_type": "code",
      "metadata": {
        "id": "yhR4tn8sMzjo",
        "outputId": "886d6901-8947-4036-c05d-7f114fb6e3e8",
        "colab": {
          "base_uri": "https://localhost:8080/"
        }
      },
      "source": [
        "!cp '/content/drive/My Drive/Colab Notebooks/socif/train.zip' /content\n",
        "!cd /content/\n",
        "!unzip train.zip"
      ],
      "execution_count": null,
      "outputs": [
        {
          "output_type": "stream",
          "text": [
            "Archive:  train.zip\n",
            "   creating: train/\n",
            "  inflating: train/0001.jpg          \n",
            "  inflating: train/0002.jpg          \n",
            "  inflating: train/0003.jpg          \n",
            "  inflating: train/0004.jpg          \n",
            "  inflating: train/0005.jpg          \n",
            "  inflating: train/0006.jpg          \n",
            "  inflating: train/0007.jpg          \n",
            "  inflating: train/0008.jpg          \n",
            "  inflating: train/0009.jpg          \n",
            "  inflating: train/0010.jpg          \n",
            "  inflating: train/train.csv         \n"
          ],
          "name": "stdout"
        }
      ]
    },
    {
      "cell_type": "code",
      "metadata": {
        "id": "qnbZyF_SZjmV"
      },
      "source": [
        "%tensorflow_version 1.x\n",
        "import tensorflow as tf\n",
        "import tensorflow_hub as hub\n",
        "import efficientnet.tfkeras as efn\n",
        "import pandas as pd\n",
        "import numpy as np\n",
        "import cv2\n",
        "from tensorflow.keras.callbacks import LearningRateScheduler, ModelCheckpoint\n",
        "from pathlib import Path\n",
        "import multiprocessing\n",
        "import os\n",
        "\n",
        "tf.enable_control_flow_v2()\n",
        "# Load compressed models from tensorflow_hub\n",
        "os.environ['TFHUB_MODEL_LOAD_FORMAT'] = 'COMPRESSED'\n"
      ],
      "execution_count": null,
      "outputs": []
    },
    {
      "cell_type": "code",
      "metadata": {
        "id": "f2-aOdBDbDGl",
        "outputId": "bbf67af5-b934-4e07-c9e9-65b8260aacd7",
        "colab": {
          "base_uri": "https://localhost:8080/"
        }
      },
      "source": [
        "# Building the model\n",
        "efficient_net_lite_0 = \"https://tfhub.dev/tensorflow/efficientnet/lite0/classification/1\" \n",
        "\n",
        "# Input layer\n",
        "input = tf.keras.layers.Input(shape=(224,224,3), name='input_dllm')\n",
        "# This pre-trained layer is loaded from tensorflow hub\n",
        "model_eff = hub.KerasLayer(efficient_net_lite_0, input_shape=[224,224,3], trainable=False)(input)\n",
        "# This output is for gender\n",
        "dense_G = tf.keras.layers.Dense(units=2, activation=\"softmax\", name=\"pred_gender\")(model_eff)\n",
        "# This output is for age\n",
        "dense_A = tf.keras.layers.Dense(units=101, activation=\"softmax\", name=\"pred_age\")(model_eff)\n",
        "# This output is for race\n",
        "dense_R = tf.keras.layers.Dense(units=3, activation=\"softmax\", name=\"pred_race\")(model_eff)\n",
        "model = keras.Model(inputs=input, outputs=[dense_G, dense_A, dense_R], name='Ngo Dllm')"
      ],
      "execution_count": null,
      "outputs": [
        {
          "output_type": "stream",
          "text": [
            "WARNING:tensorflow:Entity <bound method KerasLayer.call of <tensorflow_hub.keras_layer.KerasLayer object at 0x7f0730880c18>> could not be transformed and will be executed as-is. Please report this to the AutoGraph team. When filing the bug, set the verbosity to 10 (on Linux, `export AUTOGRAPH_VERBOSITY=10`) and attach the full output. Cause: module 'gast' has no attribute 'Num'\n"
          ],
          "name": "stdout"
        },
        {
          "output_type": "stream",
          "text": [
            "WARNING:tensorflow:Entity <bound method KerasLayer.call of <tensorflow_hub.keras_layer.KerasLayer object at 0x7f0730880c18>> could not be transformed and will be executed as-is. Please report this to the AutoGraph team. When filing the bug, set the verbosity to 10 (on Linux, `export AUTOGRAPH_VERBOSITY=10`) and attach the full output. Cause: module 'gast' has no attribute 'Num'\n"
          ],
          "name": "stderr"
        },
        {
          "output_type": "stream",
          "text": [
            "WARNING: Entity <bound method KerasLayer.call of <tensorflow_hub.keras_layer.KerasLayer object at 0x7f0730880c18>> could not be transformed and will be executed as-is. Please report this to the AutoGraph team. When filing the bug, set the verbosity to 10 (on Linux, `export AUTOGRAPH_VERBOSITY=10`) and attach the full output. Cause: module 'gast' has no attribute 'Num'\n"
          ],
          "name": "stdout"
        }
      ]
    },
    {
      "cell_type": "code",
      "metadata": {
        "id": "6f_xUJZtGE53"
      },
      "source": [
        "# testing for efn only\n",
        "model = efn.EfficientNetB3(weights='imagenet', include_top=False, input_shape=(224,224,3), pooling='avg')"
      ],
      "execution_count": null,
      "outputs": []
    },
    {
      "cell_type": "code",
      "metadata": {
        "id": "vm1SWuwnKgLy",
        "outputId": "d8523c3e-8e9b-4d0c-b489-891a64cf9cc2",
        "colab": {
          "base_uri": "https://localhost:8080/"
        }
      },
      "source": [
        "model.summary()"
      ],
      "execution_count": null,
      "outputs": [
        {
          "output_type": "stream",
          "text": [
            "Model: \"Ngo Dllm\"\n",
            "__________________________________________________________________________________________________\n",
            "Layer (type)                    Output Shape         Param #     Connected to                     \n",
            "==================================================================================================\n",
            "input_dllm (InputLayer)         [(None, 224, 224, 3) 0                                            \n",
            "__________________________________________________________________________________________________\n",
            "keras_layer_1 (KerasLayer)      (None, 1000)         4694024     input_dllm[0][0]                 \n",
            "__________________________________________________________________________________________________\n",
            "pred_gender (Dense)             (None, 2)            2002        keras_layer_1[0][0]              \n",
            "__________________________________________________________________________________________________\n",
            "pred_age (Dense)                (None, 101)          101101      keras_layer_1[0][0]              \n",
            "__________________________________________________________________________________________________\n",
            "pred_race (Dense)               (None, 3)            3003        keras_layer_1[0][0]              \n",
            "==================================================================================================\n",
            "Total params: 4,800,130\n",
            "Trainable params: 106,106\n",
            "Non-trainable params: 4,694,024\n",
            "__________________________________________________________________________________________________\n"
          ],
          "name": "stdout"
        }
      ]
    },
    {
      "cell_type": "code",
      "metadata": {
        "id": "X_02PVGhSOQN"
      },
      "source": [
        "from tensorflow.keras.optimizers import SGD, Adam\n",
        "def get_optimizer(name=\"adam\", learning_rate=0.001):\n",
        "    if name == \"sgd\":\n",
        "        return SGD(lr=learning_rate, momentum=0.9, nesterov=True)\n",
        "    elif name == \"adam\":\n",
        "        return Adam(lr=learning_rate)\n",
        "    else:\n",
        "        raise ValueError(\"optimizer name should be 'sgd' or 'adam'\")\n",
        "\n",
        "\n",
        "def get_scheduler(epoches=30, learning_rate=0.001):\n",
        "    class Schedule:\n",
        "        def __init__(self, nb_epochs, initial_lr):\n",
        "            self.epochs = nb_epochs\n",
        "            self.initial_lr = initial_lr\n",
        "\n",
        "        def __call__(self, epoch_idx):\n",
        "            if epoch_idx < self.epochs * 0.25:\n",
        "                return self.initial_lr\n",
        "            elif epoch_idx < self.epochs * 0.50:\n",
        "                return self.initial_lr * 0.2\n",
        "            elif epoch_idx < self.epochs * 0.75:\n",
        "                return self.initial_lr * 0.04\n",
        "            return self.initial_lr * 0.008\n",
        "    return Schedule(epoches, learning_rate)"
      ],
      "execution_count": null,
      "outputs": []
    },
    {
      "cell_type": "code",
      "metadata": {
        "id": "nsGARV4wpx3R"
      },
      "source": [
        "csv_path = \"./train/train.csv\"\n",
        "dataset = pd.read_csv(csv_path, header=None)\n",
        "X = dataset[0].apply(lambda p: cv2.imread(\"./train/\"+p))\n",
        "X = X.apply(lambda img: cv2.resize(img, (224, 224)))\n",
        "X = np.array(X.to_list(), dtype=np.float16)"
      ],
      "execution_count": null,
      "outputs": []
    },
    {
      "cell_type": "code",
      "metadata": {
        "id": "FRhCKPAgQ7OQ"
      },
      "source": [
        "y = dataset.loc[:,1:].to_numpy()"
      ],
      "execution_count": null,
      "outputs": []
    },
    {
      "cell_type": "code",
      "metadata": {
        "id": "zTz4kfmMR4hI"
      },
      "source": [
        "import tensorflow.keras as keras\n",
        "\n",
        "# Compiling the model\n",
        "opt = get_optimizer()\n",
        "scheduler = get_scheduler()\n",
        "model.compile(optimizer=opt, loss=[\"sparse_categorical_crossentropy\", \n",
        "                \"sparse_categorical_crossentropy\",\n",
        "                \"sparse_categorical_crossentropy\"],metrics=['accuracy'])\n",
        "\n",
        "checkpoint_dir = Path(\"./checkpoint\")\n",
        "checkpoint_dir.mkdir(exist_ok=True)\n",
        "filename = \"_\".join([\"EfficientNetB3\",\"224\",\"weights.{epoch:02d}-{loss:.2f}.hdf5\"])\n",
        "callbacks= [\n",
        "    LearningRateScheduler(schedule=scheduler),\n",
        "    ModelCheckpoint(str(checkpoint_dir) + \"/\" + filename,\n",
        "                    monitor=\"loss\",\n",
        "                    verbose=1,\n",
        "                    save_best_only=True,\n",
        "                    mode=\"auto\"),\n",
        "]"
      ],
      "execution_count": null,
      "outputs": []
    },
    {
      "cell_type": "code",
      "metadata": {
        "id": "komEdu9-schS",
        "outputId": "78b1660b-159a-4a7e-e197-d82bef0a1c6b",
        "colab": {
          "base_uri": "https://localhost:8080/"
        }
      },
      "source": [
        "model.fit(X, y=[y[:,0], y[:,1], y[:,2]], epochs=10, batch_size=10, callbacks=callbacks)"
      ],
      "execution_count": null,
      "outputs": [
        {
          "output_type": "stream",
          "text": [
            "Train on 10 samples\n",
            "Epoch 1/10\n",
            "\n",
            "Epoch 00001: loss improved from inf to 8.87203, saving model to checkpoint/EfficientNetB3_224_weights.01-8.87.hdf5\n",
            "10/10 [==============================] - 2s 220ms/sample - loss: 8.8720 - pred_gender_loss: 1.2148 - pred_age_loss: 5.9130 - pred_race_loss: 1.7442 - pred_gender_acc: 0.6000 - pred_age_acc: 0.0000e+00 - pred_race_acc: 0.3000\n",
            "Epoch 2/10\n",
            "\n",
            "Epoch 00002: loss improved from 8.87203 to 6.34907, saving model to checkpoint/EfficientNetB3_224_weights.02-6.35.hdf5\n",
            "10/10 [==============================] - 0s 16ms/sample - loss: 6.3491 - pred_gender_loss: 0.9335 - pred_age_loss: 4.2209 - pred_race_loss: 1.1947 - pred_gender_acc: 0.6000 - pred_age_acc: 0.3000 - pred_race_acc: 0.3000\n",
            "Epoch 3/10\n",
            "\n",
            "Epoch 00003: loss improved from 6.34907 to 4.65237, saving model to checkpoint/EfficientNetB3_224_weights.03-4.65.hdf5\n",
            "10/10 [==============================] - 0s 15ms/sample - loss: 4.6524 - pred_gender_loss: 0.6896 - pred_age_loss: 2.9365 - pred_race_loss: 1.0262 - pred_gender_acc: 0.6000 - pred_age_acc: 0.5000 - pred_race_acc: 0.4000\n",
            "Epoch 4/10\n",
            "\n",
            "Epoch 00004: loss improved from 4.65237 to 3.52114, saving model to checkpoint/EfficientNetB3_224_weights.04-3.52.hdf5\n",
            "10/10 [==============================] - 0s 18ms/sample - loss: 3.5211 - pred_gender_loss: 0.4735 - pred_age_loss: 2.1045 - pred_race_loss: 0.9431 - pred_gender_acc: 0.7000 - pred_age_acc: 0.5000 - pred_race_acc: 0.6000\n",
            "Epoch 5/10\n",
            "\n",
            "Epoch 00005: loss improved from 3.52114 to 2.63547, saving model to checkpoint/EfficientNetB3_224_weights.05-2.64.hdf5\n",
            "10/10 [==============================] - 0s 24ms/sample - loss: 2.6355 - pred_gender_loss: 0.3127 - pred_age_loss: 1.5123 - pred_race_loss: 0.8104 - pred_gender_acc: 0.8000 - pred_age_acc: 0.6000 - pred_race_acc: 0.8000\n",
            "Epoch 6/10\n",
            "\n",
            "Epoch 00006: loss improved from 2.63547 to 1.90698, saving model to checkpoint/EfficientNetB3_224_weights.06-1.91.hdf5\n",
            "10/10 [==============================] - 0s 21ms/sample - loss: 1.9070 - pred_gender_loss: 0.2127 - pred_age_loss: 1.0548 - pred_race_loss: 0.6395 - pred_gender_acc: 1.0000 - pred_age_acc: 0.7000 - pred_race_acc: 0.8000\n",
            "Epoch 7/10\n",
            "\n",
            "Epoch 00007: loss improved from 1.90698 to 1.35990, saving model to checkpoint/EfficientNetB3_224_weights.07-1.36.hdf5\n",
            "10/10 [==============================] - 0s 23ms/sample - loss: 1.3599 - pred_gender_loss: 0.1542 - pred_age_loss: 0.7347 - pred_race_loss: 0.4710 - pred_gender_acc: 1.0000 - pred_age_acc: 0.8000 - pred_race_acc: 0.8000\n",
            "Epoch 8/10\n",
            "\n",
            "Epoch 00008: loss improved from 1.35990 to 0.99427, saving model to checkpoint/EfficientNetB3_224_weights.08-0.99.hdf5\n",
            "10/10 [==============================] - 0s 18ms/sample - loss: 0.9943 - pred_gender_loss: 0.1159 - pred_age_loss: 0.5360 - pred_race_loss: 0.3424 - pred_gender_acc: 1.0000 - pred_age_acc: 0.9000 - pred_race_acc: 0.9000\n",
            "Epoch 9/10\n",
            "\n",
            "Epoch 00009: loss improved from 0.99427 to 0.77440, saving model to checkpoint/EfficientNetB3_224_weights.09-0.77.hdf5\n",
            "10/10 [==============================] - 0s 19ms/sample - loss: 0.7744 - pred_gender_loss: 0.0879 - pred_age_loss: 0.4130 - pred_race_loss: 0.2735 - pred_gender_acc: 1.0000 - pred_age_acc: 1.0000 - pred_race_acc: 1.0000\n",
            "Epoch 10/10\n",
            "\n",
            "Epoch 00010: loss improved from 0.77440 to 0.74145, saving model to checkpoint/EfficientNetB3_224_weights.10-0.74.hdf5\n",
            "10/10 [==============================] - 0s 18ms/sample - loss: 0.7414 - pred_gender_loss: 0.0832 - pred_age_loss: 0.3926 - pred_race_loss: 0.2657 - pred_gender_acc: 1.0000 - pred_age_acc: 1.0000 - pred_race_acc: 1.0000\n"
          ],
          "name": "stdout"
        },
        {
          "output_type": "execute_result",
          "data": {
            "text/plain": [
              "<tensorflow.python.keras.callbacks.History at 0x7f073088dba8>"
            ]
          },
          "metadata": {
            "tags": []
          },
          "execution_count": 120
        }
      ]
    },
    {
      "cell_type": "code",
      "metadata": {
        "id": "dUdcLZOOXaTk"
      },
      "source": [
        "model.load_weights(\"/content/checkpoint/EfficientNetB3_224_weights.10-2.82.hdf5\")"
      ],
      "execution_count": null,
      "outputs": []
    },
    {
      "cell_type": "code",
      "metadata": {
        "id": "J9Y7nIXfGAq5",
        "outputId": "229038bd-2850-40ac-de6f-d65259faec4d",
        "colab": {
          "base_uri": "https://localhost:8080/"
        }
      },
      "source": [
        "model.summary()"
      ],
      "execution_count": null,
      "outputs": [
        {
          "output_type": "stream",
          "text": [
            "Model: \"Ngo Dllm\"\n",
            "__________________________________________________________________________________________________\n",
            "Layer (type)                    Output Shape         Param #     Connected to                     \n",
            "==================================================================================================\n",
            "input_dllm (InputLayer)         [(None, 224, 224, 3) 0                                            \n",
            "__________________________________________________________________________________________________\n",
            "keras_layer_2 (KerasLayer)      (None, 1000)         8273768     input_dllm[0][0]                 \n",
            "__________________________________________________________________________________________________\n",
            "pred_gender (Dense)             (None, 2)            2002        keras_layer_2[0][0]              \n",
            "__________________________________________________________________________________________________\n",
            "pred_age (Dense)                (None, 101)          101101      keras_layer_2[0][0]              \n",
            "__________________________________________________________________________________________________\n",
            "pred_race (Dense)               (None, 3)            3003        keras_layer_2[0][0]              \n",
            "==================================================================================================\n",
            "Total params: 8,379,874\n",
            "Trainable params: 106,106\n",
            "Non-trainable params: 8,273,768\n",
            "__________________________________________________________________________________________________\n"
          ],
          "name": "stdout"
        }
      ]
    },
    {
      "cell_type": "code",
      "metadata": {
        "id": "QOkr7rtvfMLZ",
        "outputId": "13ccfc3b-6331-4d2d-e5b4-9fe5ff15b846",
        "colab": {
          "base_uri": "https://localhost:8080/"
        }
      },
      "source": [
        "from tensorflow import keras\n",
        "# check input and output names\n",
        "in_names = [x.op.name for x in model.inputs]\n",
        "out_names = [x.op.name for x in model.outputs]\n",
        "print(in_names)\n",
        "print(out_names)"
      ],
      "execution_count": null,
      "outputs": [
        {
          "output_type": "stream",
          "text": [
            "['input_dllm_3']\n",
            "['pred_gender_3/Softmax', 'pred_age_3/Softmax', 'pred_race_3/Softmax']\n"
          ],
          "name": "stdout"
        }
      ]
    },
    {
      "cell_type": "code",
      "metadata": {
        "id": "PizFTpviQUTC"
      },
      "source": [
        "import keras.backend as K"
      ],
      "execution_count": null,
      "outputs": []
    },
    {
      "cell_type": "code",
      "metadata": {
        "id": "3oOTyIbfSuGu"
      },
      "source": [
        "# Saved the model to .h5 format, P.S. the model must not contain subclass, it should be functional or sequential\n",
        "tf.keras.models.save_model(model, '/content/saved_model.h5')"
      ],
      "execution_count": null,
      "outputs": []
    },
    {
      "cell_type": "code",
      "metadata": {
        "id": "JstMhNAAPqlh"
      },
      "source": [
        "# not working\n",
        "# converter = tf.compat.v1.lite.TFLiteConverter.from_session(\n",
        "#   K.get_session(), input_tensors=model.inputs, output_tensors=model.outputs)\n",
        "# tflite_model = converter.convert()\n",
        "# open(\"converted_model.tflite\", \"wb\").write(tflite_model)"
      ],
      "execution_count": null,
      "outputs": []
    },
    {
      "cell_type": "code",
      "metadata": {
        "id": "4HIiJGz6gO-v",
        "outputId": "148702d9-607a-4980-89d2-f0431fb128fc",
        "colab": {
          "base_uri": "https://localhost:8080/"
        }
      },
      "source": [
        "# Convert .h5 file to .tflite\n",
        "converter = tf.compat.v1.lite.TFLiteConverter.from_keras_model_file(\n",
        "    model_file='/content/saved_model.h5',\n",
        "    input_arrays=['input_dllm'],\n",
        "    output_arrays=['pred_gender/Softmax', 'pred_age/Softmax', 'pred_race/Softmax'],\n",
        "    input_shapes={\"input_dllm\" : [None, 224,224,3]},\n",
        "    custom_objects={'KerasLayer': hub.KerasLayer}\n",
        ")\n",
        "tflite_model = converter.convert()\n",
        "open(\"b0_model.tflite\", \"wb\").write(tflite_model)"
      ],
      "execution_count": null,
      "outputs": [
        {
          "output_type": "stream",
          "text": [
            "WARNING:tensorflow:Entity <bound method KerasLayer.call of <tensorflow_hub.keras_layer.KerasLayer object at 0x7f072ee5c080>> could not be transformed and will be executed as-is. Please report this to the AutoGraph team. When filing the bug, set the verbosity to 10 (on Linux, `export AUTOGRAPH_VERBOSITY=10`) and attach the full output. Cause: module 'gast' has no attribute 'Num'\n"
          ],
          "name": "stdout"
        },
        {
          "output_type": "stream",
          "text": [
            "WARNING:tensorflow:Entity <bound method KerasLayer.call of <tensorflow_hub.keras_layer.KerasLayer object at 0x7f072ee5c080>> could not be transformed and will be executed as-is. Please report this to the AutoGraph team. When filing the bug, set the verbosity to 10 (on Linux, `export AUTOGRAPH_VERBOSITY=10`) and attach the full output. Cause: module 'gast' has no attribute 'Num'\n"
          ],
          "name": "stderr"
        },
        {
          "output_type": "stream",
          "text": [
            "WARNING: Entity <bound method KerasLayer.call of <tensorflow_hub.keras_layer.KerasLayer object at 0x7f072ee5c080>> could not be transformed and will be executed as-is. Please report this to the AutoGraph team. When filing the bug, set the verbosity to 10 (on Linux, `export AUTOGRAPH_VERBOSITY=10`) and attach the full output. Cause: module 'gast' has no attribute 'Num'\n",
            "INFO:tensorflow:Froze 253 variables.\n"
          ],
          "name": "stdout"
        },
        {
          "output_type": "stream",
          "text": [
            "INFO:tensorflow:Froze 253 variables.\n"
          ],
          "name": "stderr"
        },
        {
          "output_type": "stream",
          "text": [
            "INFO:tensorflow:Converted 253 variables to const ops.\n"
          ],
          "name": "stdout"
        },
        {
          "output_type": "stream",
          "text": [
            "INFO:tensorflow:Converted 253 variables to const ops.\n"
          ],
          "name": "stderr"
        },
        {
          "output_type": "execute_result",
          "data": {
            "text/plain": [
              "18978712"
            ]
          },
          "metadata": {
            "tags": []
          },
          "execution_count": 123
        }
      ]
    },
    {
      "cell_type": "code",
      "metadata": {
        "id": "CgiHzl4QGngM",
        "outputId": "b8d09756-ab3c-4b88-90f2-78786c900c5e",
        "colab": {
          "base_uri": "https://localhost:8080/"
        }
      },
      "source": [
        "# testing for layer itself\n",
        "# converter = tf.compat.v1.lite.TFLiteConverter.from_keras_model_file(\n",
        "#     model_file='/content/saved_model.h5',\n",
        "#     input_arrays=['input_2'],\n",
        "#     output_arrays=['avg_pool/Mean'],\n",
        "#     input_shapes={\"input_2\" : [None, 224,224,3]},\n",
        "#     #custom_objects={'KerasLayer': hub.KerasLayer}\n",
        "# )\n",
        "# tflite_model = converter.convert()\n",
        "# open(\"test_model.tflite\", \"wb\").write(tflite_model)"
      ],
      "execution_count": null,
      "outputs": [
        {
          "output_type": "stream",
          "text": [
            "WARNING:tensorflow:No training configuration found in save file: the model was *not* compiled. Compile it manually.\n"
          ],
          "name": "stdout"
        },
        {
          "output_type": "stream",
          "text": [
            "WARNING:tensorflow:No training configuration found in save file: the model was *not* compiled. Compile it manually.\n"
          ],
          "name": "stderr"
        },
        {
          "output_type": "stream",
          "text": [
            "INFO:tensorflow:Froze 494 variables.\n"
          ],
          "name": "stdout"
        },
        {
          "output_type": "stream",
          "text": [
            "INFO:tensorflow:Froze 494 variables.\n"
          ],
          "name": "stderr"
        },
        {
          "output_type": "stream",
          "text": [
            "INFO:tensorflow:Converted 494 variables to const ops.\n"
          ],
          "name": "stdout"
        },
        {
          "output_type": "stream",
          "text": [
            "INFO:tensorflow:Converted 494 variables to const ops.\n"
          ],
          "name": "stderr"
        },
        {
          "output_type": "execute_result",
          "data": {
            "text/plain": [
              "42705064"
            ]
          },
          "metadata": {
            "tags": []
          },
          "execution_count": 80
        }
      ]
    },
    {
      "cell_type": "code",
      "metadata": {
        "id": "PPa_bS6Hjpnw",
        "outputId": "6ce5d74a-3f3a-4c65-8b3a-7f2de51ac839",
        "colab": {
          "base_uri": "https://localhost:8080/"
        }
      },
      "source": [
        "print([i.op.name for i in model.inputs])\n",
        "print([out.op.name for out in model.outputs])"
      ],
      "execution_count": null,
      "outputs": [
        {
          "output_type": "stream",
          "text": [
            "['input_dllm_1']\n",
            "['pred_gender_1/Softmax', 'pred_age_1/Softmax', 'pred_race_1/Softmax']\n"
          ],
          "name": "stdout"
        }
      ]
    },
    {
      "cell_type": "code",
      "metadata": {
        "id": "kKnOUqn85On5"
      },
      "source": [
        "!cp '/content/b0_model.tflite' '/content/drive/My Drive/Colab Notebooks'"
      ],
      "execution_count": null,
      "outputs": []
    }
  ]
}